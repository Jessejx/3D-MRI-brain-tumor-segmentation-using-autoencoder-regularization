{
 "cells": [
  {
   "cell_type": "code",
   "execution_count": 1,
   "metadata": {},
   "outputs": [
    {
     "name": "stdout",
     "output_type": "stream",
     "text": [
      "47 items written into valid.txt.\n"
     ]
    }
   ],
   "source": [
    "import torch, fastai, sys, os\n",
    "from fastai.vision import *\n",
    "import ants\n",
    "from ants.core.ants_image import ANTsImage\n",
    "from jupyterthemes import jtplot\n",
    "sys.path.insert(0, './exp')\n",
    "jtplot.style(theme='gruvboxd')\n",
    "\n",
    "import model\n",
    "from model import SoftDiceLoss, KLDivergence, L2Loss\n",
    "import dataloader \n",
    "from dataloader import data"
   ]
  },
  {
   "cell_type": "code",
   "execution_count": 2,
   "metadata": {},
   "outputs": [
    {
     "data": {
      "text/plain": [
       "1"
      ]
     },
     "execution_count": 2,
     "metadata": {},
     "output_type": "execute_result"
    }
   ],
   "source": [
    "torch.cuda.set_device(1)\n",
    "torch.cuda.current_device()"
   ]
  },
  {
   "cell_type": "code",
   "execution_count": 3,
   "metadata": {},
   "outputs": [],
   "source": [
    "autounet = model.autounet.cuda()\n",
    "sdl = SoftDiceLoss()\n",
    "kld = KLDivergence()\n",
    "l2l = L2Loss()"
   ]
  },
  {
   "cell_type": "code",
   "execution_count": 4,
   "metadata": {},
   "outputs": [],
   "source": [
    "class AutoUNetCallback(LearnerCallback):\n",
    "    \"Custom callback for implementing `AutoUNet` training loop\"\n",
    "    _order=0\n",
    "    \n",
    "    def __init__(self, learn:Learner):\n",
    "        super().__init__(learn)\n",
    "    \n",
    "    def on_batch_begin(self, last_input:Tensor, last_target:Tensor, **kwargs):\n",
    "        \"Store the states to be later used to calculate the loss\"\n",
    "        self.top_y, self.bottom_y = last_target.data, last_input.data\n",
    "        \n",
    "    def on_loss_begin(self, last_output:Tuple[Tensor,Tensor], **kwargs):\n",
    "        \"Stroe the states to be later used to calculate the loss\"\n",
    "        self.top_res, self.bottom_res = last_output\n",
    "        self.z_mean, self.z_log_var = model.hooks.stored[3], model.hooks.stored[4]\n",
    "        return {'last_output': (self.top_res, self.bottom_res,\n",
    "                                self.z_mean, self.z_log_var,\n",
    "                                self.top_y, self.bottom_y)}"
   ]
  },
  {
   "cell_type": "code",
   "execution_count": 5,
   "metadata": {},
   "outputs": [],
   "source": [
    "class AutoUNetLoss(nn.Module):\n",
    "    \"Combining all the loss functions defined for `AutoUNet`\"\n",
    "    def __init__(self):\n",
    "        super().__init__()\n",
    "    \n",
    "    def forward(self, top_res, bottom_res, z_mean, z_log_var, top_y, bottom_y):\n",
    "        return sdl(top_res, top_y) + (0.1 * kld(z_mean, z_log_var)) + (0.1 * l2l(bottom_res, bottom_y))"
   ]
  },
  {
   "cell_type": "code",
   "execution_count": 6,
   "metadata": {
    "code_folding": [
     1
    ]
   },
   "outputs": [],
   "source": [
    "#monkey-patch\n",
    "def mp_loss_batch(model:nn.Module, xb:Tensor, yb:Tensor, loss_func:OptLossFunc=None, opt:OptOptimizer=None,\n",
    "               cb_handler:Optional[CallbackHandler]=None)->Tuple[Union[Tensor,int,float,str]]:\n",
    "    \"Calculate loss and metrics for a batch, call out to callbacks as necessary.\"\n",
    "    cb_handler = ifnone(cb_handler, CallbackHandler())\n",
    "    if not is_listy(xb): xb = [xb]\n",
    "    if not is_listy(yb): yb = [yb]\n",
    "    out = model(*xb)\n",
    "    out = cb_handler.on_loss_begin(out)\n",
    "\n",
    "    if not loss_func: return to_detach(out), to_detach(yb[0])\n",
    "    loss = loss_func(*out) #modified\n",
    "\n",
    "    if opt is not None:\n",
    "        loss,skip_bwd = cb_handler.on_backward_begin(loss)\n",
    "        if not skip_bwd:                     loss.backward()\n",
    "        if not cb_handler.on_backward_end(): opt.step()\n",
    "        if not cb_handler.on_step_end():     opt.zero_grad()\n",
    "\n",
    "    return loss.detach().cpu()"
   ]
  },
  {
   "cell_type": "code",
   "execution_count": 7,
   "metadata": {
    "code_folding": [
     1
    ]
   },
   "outputs": [],
   "source": [
    "#monkey-patch\n",
    "def mp_fit(epochs:int, learn:Learner, callbacks:Optional[CallbackList]=None, metrics:OptMetrics=None)->None:\n",
    "    \"Fit the `model` on `data` and learn using `loss_func` and `opt`.\"\n",
    "    assert len(learn.data.train_dl) != 0, f\"\"\"Your training dataloader is empty, can't train a model.\n",
    "        Use a smaller batch size (batch size={learn.data.train_dl.batch_size} for {len(learn.data.train_dl.dataset)} elements).\"\"\"\n",
    "    cb_handler = CallbackHandler(callbacks, metrics)\n",
    "    pbar = master_bar(range(epochs))\n",
    "    cb_handler.on_train_begin(epochs, pbar=pbar, metrics=metrics)\n",
    "\n",
    "    exception=False\n",
    "    try:\n",
    "        for epoch in pbar:\n",
    "            learn.model.train()\n",
    "            cb_handler.set_dl(learn.data.train_dl)\n",
    "            cb_handler.on_epoch_begin()\n",
    "            for xb,yb in progress_bar(learn.data.train_dl, parent=pbar):\n",
    "                xb, yb = cb_handler.on_batch_begin(xb, yb)\n",
    "                loss = loss_batch(learn.model, xb, yb, learn.loss_func, learn.opt, cb_handler) #modified\n",
    "                if cb_handler.on_batch_end(loss): break\n",
    "\n",
    "            if not cb_handler.skip_validate and not learn.data.empty_val:\n",
    "                val_loss = validate(learn.model, learn.data.valid_dl, loss_func=learn.loss_func,\n",
    "                                       cb_handler=cb_handler, pbar=pbar)\n",
    "            else: val_loss=None\n",
    "            if cb_handler.on_epoch_end(val_loss): break\n",
    "    except Exception as e:\n",
    "        exception = e\n",
    "        raise\n",
    "    finally: cb_handler.on_train_end(exception)\n"
   ]
  },
  {
   "cell_type": "code",
   "execution_count": 8,
   "metadata": {
    "code_folding": [
     1
    ]
   },
   "outputs": [],
   "source": [
    " #monkey-patch\n",
    "def mp_learner_fit(self, epochs:int, lr:Union[Floats,slice]=defaults.lr,\n",
    "                   wd:Floats=None, callbacks:Collection[Callback]=None)->None:\n",
    "    \"Fit the model on this learner with `lr` learning rate, `wd` weight decay for `epochs` with `callbacks`.\"\n",
    "    lr = self.lr_range(lr)\n",
    "    if wd is None: wd = self.wd\n",
    "    if not getattr(self, 'opt', False): self.create_opt(lr, wd)\n",
    "    else: self.opt.lr,self.opt.wd = lr,wd\n",
    "    callbacks = [cb(self) for cb in self.callback_fns + listify(defaults.extra_callback_fns)] + listify(callbacks)\n",
    "    fit(epochs, self, metrics=self.metrics, callbacks=self.callbacks+callbacks)"
   ]
  },
  {
   "cell_type": "code",
   "execution_count": 9,
   "metadata": {
    "code_folding": [
     1
    ]
   },
   "outputs": [],
   "source": [
    "#monkey-patch\n",
    "def mp_validate(model:nn.Module, dl:DataLoader, loss_func:OptLossFunc=None, cb_handler:Optional[CallbackHandler]=None,\n",
    "             pbar:Optional[PBar]=None, average=True, n_batch:Optional[int]=None)->Iterator[Tuple[Union[Tensor,int],...]]:\n",
    "    \"Calculate `loss_func` of `model` on `dl` in evaluation mode.\"\n",
    "    model.eval()\n",
    "    with torch.no_grad():\n",
    "        val_losses,nums = [],[]\n",
    "        if cb_handler: cb_handler.set_dl(dl)\n",
    "        for xb,yb in progress_bar(dl, parent=pbar, leave=(pbar is not None)):\n",
    "            if cb_handler: xb, yb = cb_handler.on_batch_begin(xb, yb, train=False)\n",
    "            val_loss = loss_batch(model, xb, yb, loss_func, cb_handler=cb_handler) #modified\n",
    "            val_losses.append(val_loss)\n",
    "            if not is_listy(yb): yb = [yb]\n",
    "            nums.append(first_el(yb).shape[0])\n",
    "            if cb_handler and cb_handler.on_batch_end(val_losses[-1]): break\n",
    "            if n_batch and (len(nums)>=n_batch): break\n",
    "        nums = np.array(nums, dtype=np.float32)\n",
    "        if average: return (to_np(torch.stack(val_losses)) * nums).sum() / nums.sum()\n",
    "        else:       return val_losses"
   ]
  },
  {
   "cell_type": "code",
   "execution_count": 10,
   "metadata": {
    "code_folding": [
     1
    ]
   },
   "outputs": [],
   "source": [
    "#monkey-patch\n",
    "def mp_learner_validate(self, dl=None, callbacks=None, metrics=None):\n",
    "    \"Validate on `dl` with potential `callbacks` and `metrics`.\"\n",
    "    dl = ifnone(dl, self.data.valid_dl)\n",
    "    metrics = ifnone(metrics, self.metrics)\n",
    "    cb_handler = CallbackHandler(self.callbacks + ifnone(callbacks, []), metrics)\n",
    "    cb_handler.on_train_begin(1, None, metrics); cb_handler.on_epoch_begin()\n",
    "    val_metrics = validate(self.model, dl, self.loss_func, cb_handler)\n",
    "    cb_handler.on_epoch_end(val_metrics)\n",
    "    return cb_handler.state_dict['last_metrics']"
   ]
  },
  {
   "cell_type": "code",
   "execution_count": 11,
   "metadata": {},
   "outputs": [],
   "source": [
    "from fastai.basic_train import loss_batch, fit, validate"
   ]
  },
  {
   "cell_type": "code",
   "execution_count": 12,
   "metadata": {},
   "outputs": [],
   "source": [
    "loss_batch = mp_loss_batch\n",
    "fit = mp_fit\n",
    "validate = mp_validate\n",
    "Learner.fit = mp_learner_fit\n",
    "Learner.validate = mp_learner_validate"
   ]
  },
  {
   "cell_type": "code",
   "execution_count": 13,
   "metadata": {},
   "outputs": [],
   "source": [
    "def dice_coefficient(last_output:Tensor, last_target:Tensor):\n",
    "    \"Metric based on dice coefficient\"\n",
    "    pred, targ = last_output[0], last_target\n",
    "    return 2 * (pred * targ).sum() / ((pred**2).sum() + (targ**2).sum())"
   ]
  },
  {
   "cell_type": "code",
   "execution_count": 14,
   "metadata": {},
   "outputs": [],
   "source": [
    "auto_unet_loss = AutoUNetLoss()"
   ]
  },
  {
   "cell_type": "code",
   "execution_count": 15,
   "metadata": {},
   "outputs": [],
   "source": [
    "learner = Learner(data, autounet, loss_func=auto_unet_loss)"
   ]
  },
  {
   "cell_type": "code",
   "execution_count": 16,
   "metadata": {},
   "outputs": [],
   "source": [
    "autounet_cb = AutoUNetCallback(learner)"
   ]
  },
  {
   "cell_type": "code",
   "execution_count": 17,
   "metadata": {},
   "outputs": [],
   "source": [
    "learner.callbacks.append(autounet_cb)"
   ]
  },
  {
   "cell_type": "code",
   "execution_count": 17,
   "metadata": {},
   "outputs": [
    {
     "data": {
      "text/html": [
       "\n",
       "    <div>\n",
       "        <style>\n",
       "            /* Turns off some styling */\n",
       "            progress {\n",
       "                /* gets rid of default border in Firefox and Opera. */\n",
       "                border: none;\n",
       "                /* Needs to be in here for Safari polyfill so background images work as expected. */\n",
       "                background-size: auto;\n",
       "            }\n",
       "            .progress-bar-interrupted, .progress-bar-interrupted::-webkit-progress-bar {\n",
       "                background: #F44336;\n",
       "            }\n",
       "        </style>\n",
       "      <progress value='0' class='' max='1', style='width:300px; height:20px; vertical-align: middle;'></progress>\n",
       "      0.00% [0/1 00:00<00:00]\n",
       "    </div>\n",
       "    \n",
       "<table border=\"1\" class=\"dataframe\">\n",
       "  <thead>\n",
       "    <tr style=\"text-align: left;\">\n",
       "      <th>epoch</th>\n",
       "      <th>train_loss</th>\n",
       "      <th>valid_loss</th>\n",
       "      <th>time</th>\n",
       "    </tr>\n",
       "  </thead>\n",
       "  <tbody>\n",
       "  </tbody>\n",
       "</table><p>\n",
       "\n",
       "    <div>\n",
       "        <style>\n",
       "            /* Turns off some styling */\n",
       "            progress {\n",
       "                /* gets rid of default border in Firefox and Opera. */\n",
       "                border: none;\n",
       "                /* Needs to be in here for Safari polyfill so background images work as expected. */\n",
       "                background-size: auto;\n",
       "            }\n",
       "            .progress-bar-interrupted, .progress-bar-interrupted::-webkit-progress-bar {\n",
       "                background: #F44336;\n",
       "            }\n",
       "        </style>\n",
       "      <progress value='58' class='' max='288', style='width:300px; height:20px; vertical-align: middle;'></progress>\n",
       "      20.14% [58/288 05:56<23:34 176342.1875]\n",
       "    </div>\n",
       "    "
      ],
      "text/plain": [
       "<IPython.core.display.HTML object>"
      ]
     },
     "metadata": {},
     "output_type": "display_data"
    },
    {
     "name": "stdout",
     "output_type": "stream",
     "text": [
      "LR Finder is complete, type {learner_name}.recorder.plot() to see the graph.\n"
     ]
    }
   ],
   "source": [
    "learner.lr_find()"
   ]
  },
  {
   "cell_type": "code",
   "execution_count": 18,
   "metadata": {},
   "outputs": [
    {
     "data": {
      "image/png": "[encoded data removed]",
      "text/plain": [
       "<Figure size 432x288 with 1 Axes>"
      ]
     },
     "metadata": {},
     "output_type": "display_data"
    }
   ],
   "source": [
    "learner.recorder.plot()"
   ]
  },
  {
   "cell_type": "code",
   "execution_count": 20,
   "metadata": {},
   "outputs": [
    {
     "data": {
      "text/plain": [
       "PosixPath('/home/ubuntu/MultiCampus/MICCAI_BraTS_2019_Data_Training/models/trained_model.pth')"
      ]
     },
     "execution_count": 20,
     "metadata": {},
     "output_type": "execute_result"
    }
   ],
   "source": [
    "learner.save(\"trained_model\", return_path=True)"
   ]
  },
  {
   "cell_type": "code",
   "execution_count": 20,
   "metadata": {},
   "outputs": [],
   "source": [
    "learner = learner.load(\"trained_model\", device=1)"
   ]
  },
  {
   "cell_type": "code",
   "execution_count": 20,
   "metadata": {},
   "outputs": [],
   "source": [
    "learner.metrics = [dice_coefficient]"
   ]
  },
  {
   "cell_type": "code",
   "execution_count": 23,
   "metadata": {},
   "outputs": [
    {
     "data": {
      "text/html": [
       "<table border=\"1\" class=\"dataframe\">\n",
       "  <thead>\n",
       "    <tr style=\"text-align: left;\">\n",
       "      <th>epoch</th>\n",
       "      <th>train_loss</th>\n",
       "      <th>valid_loss</th>\n",
       "      <th>dice_coefficient</th>\n",
       "      <th>time</th>\n",
       "    </tr>\n",
       "  </thead>\n",
       "  <tbody>\n",
       "    <tr>\n",
       "      <td>0</td>\n",
       "      <td>11968.476562</td>\n",
       "      <td>11397.278320</td>\n",
       "      <td>0.728514</td>\n",
       "      <td>31:11</td>\n",
       "    </tr>\n",
       "  </tbody>\n",
       "</table>"
      ],
      "text/plain": [
       "<IPython.core.display.HTML object>"
      ]
     },
     "metadata": {},
     "output_type": "display_data"
    }
   ],
   "source": [
    "learner.fit_one_cycle(1, max_lr=3e-04)"
   ]
  },
  {
   "cell_type": "code",
   "execution_count": 24,
   "metadata": {},
   "outputs": [
    {
     "data": {
      "text/html": [
       "<table border=\"1\" class=\"dataframe\">\n",
       "  <thead>\n",
       "    <tr style=\"text-align: left;\">\n",
       "      <th>epoch</th>\n",
       "      <th>train_loss</th>\n",
       "      <th>valid_loss</th>\n",
       "      <th>dice_coefficient</th>\n",
       "      <th>time</th>\n",
       "    </tr>\n",
       "  </thead>\n",
       "  <tbody>\n",
       "    <tr>\n",
       "      <td>0</td>\n",
       "      <td>10191.506836</td>\n",
       "      <td>11200.149414</td>\n",
       "      <td>0.737531</td>\n",
       "      <td>32:57</td>\n",
       "    </tr>\n",
       "    <tr>\n",
       "      <td>1</td>\n",
       "      <td>11503.087891</td>\n",
       "      <td>11923.188477</td>\n",
       "      <td>0.644095</td>\n",
       "      <td>32:46</td>\n",
       "    </tr>\n",
       "    <tr>\n",
       "      <td>2</td>\n",
       "      <td>11965.605469</td>\n",
       "      <td>11864.083984</td>\n",
       "      <td>0.658343</td>\n",
       "      <td>32:44</td>\n",
       "    </tr>\n",
       "    <tr>\n",
       "      <td>3</td>\n",
       "      <td>11030.506836</td>\n",
       "      <td>11926.581055</td>\n",
       "      <td>0.679012</td>\n",
       "      <td>32:11</td>\n",
       "    </tr>\n",
       "    <tr>\n",
       "      <td>4</td>\n",
       "      <td>10746.779297</td>\n",
       "      <td>11227.884766</td>\n",
       "      <td>0.706088</td>\n",
       "      <td>32:13</td>\n",
       "    </tr>\n",
       "    <tr>\n",
       "      <td>5</td>\n",
       "      <td>10609.997070</td>\n",
       "      <td>11073.265625</td>\n",
       "      <td>0.709225</td>\n",
       "      <td>32:19</td>\n",
       "    </tr>\n",
       "    <tr>\n",
       "      <td>6</td>\n",
       "      <td>10128.075195</td>\n",
       "      <td>10866.394531</td>\n",
       "      <td>0.730715</td>\n",
       "      <td>32:28</td>\n",
       "    </tr>\n",
       "    <tr>\n",
       "      <td>7</td>\n",
       "      <td>8688.515625</td>\n",
       "      <td>10695.497070</td>\n",
       "      <td>0.721070</td>\n",
       "      <td>32:36</td>\n",
       "    </tr>\n",
       "    <tr>\n",
       "      <td>8</td>\n",
       "      <td>9033.506836</td>\n",
       "      <td>10564.528320</td>\n",
       "      <td>0.755184</td>\n",
       "      <td>32:44</td>\n",
       "    </tr>\n",
       "    <tr>\n",
       "      <td>9</td>\n",
       "      <td>8694.732422</td>\n",
       "      <td>10569.330078</td>\n",
       "      <td>0.755437</td>\n",
       "      <td>30:29</td>\n",
       "    </tr>\n",
       "  </tbody>\n",
       "</table>"
      ],
      "text/plain": [
       "<IPython.core.display.HTML object>"
      ]
     },
     "metadata": {},
     "output_type": "display_data"
    }
   ],
   "source": [
    "learner.fit_one_cycle(10, max_lr=3e-04)"
   ]
  },
  {
   "cell_type": "code",
   "execution_count": 26,
   "metadata": {},
   "outputs": [
    {
     "data": {
      "text/plain": [
       "PosixPath('/home/ubuntu/MultiCampus/MICCAI_BraTS_2019_Data_Training/models/trained_model_1cycle.pth')"
      ]
     },
     "execution_count": 26,
     "metadata": {},
     "output_type": "execute_result"
    }
   ],
   "source": [
    "learner.save(\"trained_model_1cycle\", return_path=True)"
   ]
  },
  {
   "cell_type": "code",
   "execution_count": 18,
   "metadata": {},
   "outputs": [],
   "source": [
    "learner = learner.load(\"trained_model_1cycle\", device=1)"
   ]
  },
  {
   "cell_type": "code",
   "execution_count": null,
   "metadata": {},
   "outputs": [
    {
     "data": {
      "text/html": [
       "\n",
       "    <div>\n",
       "        <style>\n",
       "            /* Turns off some styling */\n",
       "            progress {\n",
       "                /* gets rid of default border in Firefox and Opera. */\n",
       "                border: none;\n",
       "                /* Needs to be in here for Safari polyfill so background images work as expected. */\n",
       "                background-size: auto;\n",
       "            }\n",
       "            .progress-bar-interrupted, .progress-bar-interrupted::-webkit-progress-bar {\n",
       "                background: #F44336;\n",
       "            }\n",
       "        </style>\n",
       "      <progress value='8' class='' max='10', style='width:300px; height:20px; vertical-align: middle;'></progress>\n",
       "      80.00% [8/10 4:10:44<1:02:41]\n",
       "    </div>\n",
       "    \n",
       "<table border=\"1\" class=\"dataframe\">\n",
       "  <thead>\n",
       "    <tr style=\"text-align: left;\">\n",
       "      <th>epoch</th>\n",
       "      <th>train_loss</th>\n",
       "      <th>valid_loss</th>\n",
       "      <th>dice_coefficient</th>\n",
       "      <th>time</th>\n",
       "    </tr>\n",
       "  </thead>\n",
       "  <tbody>\n",
       "    <tr>\n",
       "      <td>0</td>\n",
       "      <td>10392.399414</td>\n",
       "      <td>9580.957031</td>\n",
       "      <td>0.736880</td>\n",
       "      <td>31:50</td>\n",
       "    </tr>\n",
       "    <tr>\n",
       "      <td>1</td>\n",
       "      <td>10042.610352</td>\n",
       "      <td>10256.254883</td>\n",
       "      <td>0.701320</td>\n",
       "      <td>30:34</td>\n",
       "    </tr>\n",
       "    <tr>\n",
       "      <td>2</td>\n",
       "      <td>10119.898438</td>\n",
       "      <td>10275.036133</td>\n",
       "      <td>0.689501</td>\n",
       "      <td>31:14</td>\n",
       "    </tr>\n",
       "    <tr>\n",
       "      <td>3</td>\n",
       "      <td>10711.199219</td>\n",
       "      <td>10155.269531</td>\n",
       "      <td>0.584035</td>\n",
       "      <td>31:59</td>\n",
       "    </tr>\n",
       "    <tr>\n",
       "      <td>4</td>\n",
       "      <td>9853.235352</td>\n",
       "      <td>10081.066406</td>\n",
       "      <td>0.673109</td>\n",
       "      <td>31:24</td>\n",
       "    </tr>\n",
       "    <tr>\n",
       "      <td>5</td>\n",
       "      <td>9889.505859</td>\n",
       "      <td>9921.931641</td>\n",
       "      <td>0.688964</td>\n",
       "      <td>31:13</td>\n",
       "    </tr>\n",
       "    <tr>\n",
       "      <td>6</td>\n",
       "      <td>8726.832031</td>\n",
       "      <td>9781.743164</td>\n",
       "      <td>0.708290</td>\n",
       "      <td>31:18</td>\n",
       "    </tr>\n",
       "    <tr>\n",
       "      <td>7</td>\n",
       "      <td>8652.989258</td>\n",
       "      <td>9700.190430</td>\n",
       "      <td>0.732054</td>\n",
       "      <td>31:08</td>\n",
       "    </tr>\n",
       "  </tbody>\n",
       "</table><p>\n",
       "\n",
       "    <div>\n",
       "        <style>\n",
       "            /* Turns off some styling */\n",
       "            progress {\n",
       "                /* gets rid of default border in Firefox and Opera. */\n",
       "                border: none;\n",
       "                /* Needs to be in here for Safari polyfill so background images work as expected. */\n",
       "                background-size: auto;\n",
       "            }\n",
       "            .progress-bar-interrupted, .progress-bar-interrupted::-webkit-progress-bar {\n",
       "                background: #F44336;\n",
       "            }\n",
       "        </style>\n",
       "      <progress value='220' class='' max='288', style='width:300px; height:20px; vertical-align: middle;'></progress>\n",
       "      76.39% [220/288 22:29<06:57 8392.4023]\n",
       "    </div>\n",
       "    "
      ],
      "text/plain": [
       "<IPython.core.display.HTML object>"
      ]
     },
     "metadata": {},
     "output_type": "display_data"
    }
   ],
   "source": [
    "learner.fit_one_cycle(10, max_lr=3e-04)"
   ]
  }
 ],
 "metadata": {
  "kernelspec": {
   "display_name": "Python 3",
   "language": "python",
   "name": "python3"
  },
  "language_info": {
   "codemirror_mode": {
    "name": "ipython",
    "version": 3
   },
   "file_extension": ".py",
   "mimetype": "text/x-python",
   "name": "python",
   "nbconvert_exporter": "python",
   "pygments_lexer": "ipython3",
   "version": "3.6.5"
  }
 },
 "nbformat": 4,
 "nbformat_minor": 4
}
